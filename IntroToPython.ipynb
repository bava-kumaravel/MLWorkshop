{
  "nbformat": 4,
  "nbformat_minor": 0,
  "metadata": {
    "colab": {
      "name": "Untitled0.ipynb",
      "version": "0.3.2",
      "provenance": [],
      "include_colab_link": true
    },
    "kernelspec": {
      "name": "python3",
      "display_name": "Python 3"
    }
  },
  "cells": [
    {
      "cell_type": "markdown",
      "metadata": {
        "id": "view-in-github",
        "colab_type": "text"
      },
      "source": [
        "[View in Colaboratory](https://colab.research.google.com/github/bava-kumaravel/MLWorkshop/blob/master/IntroToPython.ipynb)"
      ]
    },
    {
      "metadata": {
        "id": "qGUIxETMYiPW",
        "colab_type": "text"
      },
      "cell_type": "markdown",
      "source": [
        "# Python basics"
      ]
    },
    {
      "metadata": {
        "id": "f9BVA1ixWH_3",
        "colab_type": "code",
        "colab": {
          "base_uri": "https://localhost:8080/",
          "height": 34
        },
        "outputId": "f58b4cad-1130-4813-b8e3-3d427dbbf692"
      },
      "cell_type": "code",
      "source": [
        "students=12\n",
        "print(students)"
      ],
      "execution_count": 7,
      "outputs": [
        {
          "output_type": "stream",
          "text": [
            "12\n"
          ],
          "name": "stdout"
        }
      ]
    },
    {
      "metadata": {
        "id": "cyWp2BqbYnpN",
        "colab_type": "code",
        "colab": {}
      },
      "cell_type": "code",
      "source": [
        ""
      ],
      "execution_count": 0,
      "outputs": []
    },
    {
      "metadata": {
        "id": "dvwqBA40Y6Wm",
        "colab_type": "text"
      },
      "cell_type": "markdown",
      "source": [
        "## Arrays"
      ]
    },
    {
      "metadata": {
        "id": "AaYaLV19Y-zD",
        "colab_type": "code",
        "colab": {
          "base_uri": "https://localhost:8080/",
          "height": 51
        },
        "outputId": "9055c3b7-cdf1-4d2a-d329-9b63f1aea590"
      },
      "cell_type": "code",
      "source": [
        "x = [2,4,6,8,9,-1,0]\n",
        "print(x)\n",
        "print(x[1])"
      ],
      "execution_count": 10,
      "outputs": [
        {
          "output_type": "stream",
          "text": [
            "[2, 4, 6, 8, 9, -1, 0]\n",
            "4\n"
          ],
          "name": "stdout"
        }
      ]
    },
    {
      "metadata": {
        "id": "qC7bgkIrZCX5",
        "colab_type": "code",
        "colab": {
          "base_uri": "https://localhost:8080/",
          "height": 34
        },
        "outputId": "6f8168c4-a5d2-4add-aea2-96c5b0ab7d1d"
      },
      "cell_type": "code",
      "source": [
        "y= x[0:2] #Slicing\n",
        "print(y)"
      ],
      "execution_count": 12,
      "outputs": [
        {
          "output_type": "stream",
          "text": [
            "[2, 4]\n"
          ],
          "name": "stdout"
        }
      ]
    },
    {
      "metadata": {
        "id": "2jr7_4LsZhIG",
        "colab_type": "code",
        "colab": {
          "base_uri": "https://localhost:8080/",
          "height": 34
        },
        "outputId": "d3e1d012-bfc6-4859-a4d5-5355833366c4"
      },
      "cell_type": "code",
      "source": [
        "x.index(6) #Get the index of an element\n"
      ],
      "execution_count": 13,
      "outputs": [
        {
          "output_type": "execute_result",
          "data": {
            "text/plain": [
              "2"
            ]
          },
          "metadata": {
            "tags": []
          },
          "execution_count": 13
        }
      ]
    },
    {
      "metadata": {
        "id": "GivGDpw6ZvBh",
        "colab_type": "code",
        "colab": {
          "base_uri": "https://localhost:8080/",
          "height": 34
        },
        "outputId": "2c9bcbeb-c3b6-4c4b-f81b-4937baccd995"
      },
      "cell_type": "code",
      "source": [
        "len(x) #Get the length of an array"
      ],
      "execution_count": 14,
      "outputs": [
        {
          "output_type": "execute_result",
          "data": {
            "text/plain": [
              "7"
            ]
          },
          "metadata": {
            "tags": []
          },
          "execution_count": 14
        }
      ]
    },
    {
      "metadata": {
        "id": "usfdpU-GZ9MB",
        "colab_type": "code",
        "colab": {}
      },
      "cell_type": "code",
      "source": [
        "x.append(8) #Add an element to the array"
      ],
      "execution_count": 0,
      "outputs": []
    },
    {
      "metadata": {
        "id": "uEnhdqX7aUwv",
        "colab_type": "code",
        "colab": {
          "base_uri": "https://localhost:8080/",
          "height": 34
        },
        "outputId": "8092816d-43da-48b0-9269-86da9116dd7b"
      },
      "cell_type": "code",
      "source": [
        "print(x)"
      ],
      "execution_count": 16,
      "outputs": [
        {
          "output_type": "stream",
          "text": [
            "[2, 4, 6, 8, 9, -1, 0, 8]\n"
          ],
          "name": "stdout"
        }
      ]
    },
    {
      "metadata": {
        "id": "4jLynsPtad9H",
        "colab_type": "text"
      },
      "cell_type": "markdown",
      "source": [
        "##Dictionary"
      ]
    },
    {
      "metadata": {
        "id": "ExNGeJZmahSr",
        "colab_type": "code",
        "colab": {
          "base_uri": "https://localhost:8080/",
          "height": 51
        },
        "outputId": "a644d041-6ed5-4e78-bbe6-1ee4a16f0e6f"
      },
      "cell_type": "code",
      "source": [
        "boston = {'Location':'MA', 'Population':5}\n",
        "print(boston)\n",
        "print(boston['Location'])"
      ],
      "execution_count": 18,
      "outputs": [
        {
          "output_type": "stream",
          "text": [
            "{'Location': 'MA', 'Population': 5}\n",
            "MA\n"
          ],
          "name": "stdout"
        }
      ]
    },
    {
      "metadata": {
        "id": "PG6gFEnpa6G6",
        "colab_type": "text"
      },
      "cell_type": "markdown",
      "source": [
        "##Loops"
      ]
    },
    {
      "metadata": {
        "id": "eyjzLoCJazPc",
        "colab_type": "code",
        "colab": {}
      },
      "cell_type": "code",
      "source": [
        "robots=['ABB','Kuka','Nachito']"
      ],
      "execution_count": 0,
      "outputs": []
    },
    {
      "metadata": {
        "id": "oBPzq4CLbEAY",
        "colab_type": "code",
        "colab": {
          "base_uri": "https://localhost:8080/",
          "height": 68
        },
        "outputId": "e1f7fd44-e7a2-4329-aacf-8f437f60c226"
      },
      "cell_type": "code",
      "source": [
        "for robot in robots:\n",
        "  print('I am a robot and my name is %s' % robot)"
      ],
      "execution_count": 20,
      "outputs": [
        {
          "output_type": "stream",
          "text": [
            "I am a robot and my name is ABB\n",
            "I am a robot and my name is Kuka\n",
            "I am a robot and my name is Nachito\n"
          ],
          "name": "stdout"
        }
      ]
    },
    {
      "metadata": {
        "id": "t1Sswti-bdJL",
        "colab_type": "code",
        "colab": {
          "base_uri": "https://localhost:8080/",
          "height": 85
        },
        "outputId": "65ab21c2-4240-40f4-da7a-52d85c374471"
      },
      "cell_type": "code",
      "source": [
        "for i in range(5,9):\n",
        "  print(i)"
      ],
      "execution_count": 21,
      "outputs": [
        {
          "output_type": "stream",
          "text": [
            "5\n",
            "6\n",
            "7\n",
            "8\n"
          ],
          "name": "stdout"
        }
      ]
    },
    {
      "metadata": {
        "id": "3n36xlA1b_8C",
        "colab_type": "code",
        "colab": {
          "base_uri": "https://localhost:8080/",
          "height": 85
        },
        "outputId": "e386bc25-323c-48d2-efde-fdd8c6d674e3"
      },
      "cell_type": "code",
      "source": [
        "for i in range(4):\n",
        "  print(i)"
      ],
      "execution_count": 22,
      "outputs": [
        {
          "output_type": "stream",
          "text": [
            "0\n",
            "1\n",
            "2\n",
            "3\n"
          ],
          "name": "stdout"
        }
      ]
    },
    {
      "metadata": {
        "id": "DMnaQMdycK3R",
        "colab_type": "text"
      },
      "cell_type": "markdown",
      "source": [
        "##Functions"
      ]
    },
    {
      "metadata": {
        "id": "25X5GUNQcHaI",
        "colab_type": "code",
        "colab": {}
      },
      "cell_type": "code",
      "source": [
        "def helloDog(name_of_dog):\n",
        "  print('Hello', name_of_dog)"
      ],
      "execution_count": 0,
      "outputs": []
    },
    {
      "metadata": {
        "id": "ruKLpt4wcSrx",
        "colab_type": "code",
        "colab": {
          "base_uri": "https://localhost:8080/",
          "height": 34
        },
        "outputId": "ddf225d6-96f5-4f6f-8d7b-00c7009d353d"
      },
      "cell_type": "code",
      "source": [
        "helloDog('Lancy')"
      ],
      "execution_count": 24,
      "outputs": [
        {
          "output_type": "stream",
          "text": [
            "Hello Lancy\n"
          ],
          "name": "stdout"
        }
      ]
    },
    {
      "metadata": {
        "id": "aVHpoTFidESU",
        "colab_type": "text"
      },
      "cell_type": "markdown",
      "source": [
        "##Libraries"
      ]
    },
    {
      "metadata": {
        "id": "JLoqiVD4cqjp",
        "colab_type": "code",
        "colab": {
          "base_uri": "https://localhost:8080/",
          "height": 34
        },
        "outputId": "52cc977e-a051-40b7-d500-7c7b172aa069"
      },
      "cell_type": "code",
      "source": [
        "import matplotlib.pyplot as plt\n",
        "import math\n",
        "\n",
        "z=math.cos(1)\n",
        "print(z)\n",
        "X=[2,4,7,8,9,0,-1]"
      ],
      "execution_count": 28,
      "outputs": [
        {
          "output_type": "stream",
          "text": [
            "0.5403023058681398\n"
          ],
          "name": "stdout"
        }
      ]
    },
    {
      "metadata": {
        "id": "nnCdb9B6c7Td",
        "colab_type": "code",
        "colab": {}
      },
      "cell_type": "code",
      "source": [
        "x=[0.1*x for x in range(-50,50)]\n",
        "y=[math.sin(x) for x in X]"
      ],
      "execution_count": 0,
      "outputs": []
    },
    {
      "metadata": {
        "id": "q63E6c_fd6vg",
        "colab_type": "code",
        "colab": {
          "base_uri": "https://localhost:8080/",
          "height": 420
        },
        "outputId": "f692152a-ba5a-4470-80f2-e2caa3d98707"
      },
      "cell_type": "code",
      "source": [
        "plt.figure(figsize=(6,6))\n",
        "plt.plot(X,y)\n",
        "plt.xlabel('x')\n",
        "plt.ylabel('y = sin(x)')\n",
        "plt.title('Some cool plot')"
      ],
      "execution_count": 31,
      "outputs": [
        {
          "output_type": "execute_result",
          "data": {
            "text/plain": [
              "Text(0.5,1,'Some cool plot')"
            ]
          },
          "metadata": {
            "tags": []
          },
          "execution_count": 31
        },
        {
          "output_type": "display_data",
          "data": {
            "image/png": "[encoded data removed]",
            "text/plain": [
              "<matplotlib.figure.Figure at 0x7f4e9a970da0>"
            ]
          },
          "metadata": {
            "tags": []
          }
        }
      ]
    },
    {
      "metadata": {
        "id": "b0AqAFYMeOLC",
        "colab_type": "code",
        "colab": {}
      },
      "cell_type": "code",
      "source": [
        ""
      ],
      "execution_count": 0,
      "outputs": []
    }
  ]
}